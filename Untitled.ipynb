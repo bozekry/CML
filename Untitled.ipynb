{
 "cells": [
  {
   "cell_type": "code",
   "execution_count": 7,
   "id": "b2d11996-5d66-457e-a4f1-93663dbec483",
   "metadata": {},
   "outputs": [
    {
     "data": {
      "text/plain": [
       "True"
      ]
     },
     "execution_count": 7,
     "metadata": {},
     "output_type": "execute_result"
    }
   ],
   "source": [
    "#main\n",
    "import pandas as pd\n",
    "import numpy as np\n",
    "import matplotlib.pyplot as plt\n",
    "#sklearn --preprocessing\n",
    "from sklearn.model_selection import train_test_split\n",
    "from sklearn_features.transformers import DataFrameSelector\n",
    "from sklearn.preprocessing import OneHotEncoder,StandardScaler\n",
    "from sklearn.pipeline import Pipeline,FeatureUnion\n",
    "#sklearn --models\n",
    "from sklearn.neighbors import KNeighborsClassifier\n",
    "from sklearn.ensemble import RandomForestClassifier\n",
    "from sklearn.linear_model import LogisticRegression\n",
    "#sklearn  --metrics\n",
    "from sklearn.metrics import f1_score,confusion_matrix,ConfusionMatrixDisplay\n",
    "df=pd.read_csv('Hotel Reservations.csv')\n",
    "df.drop(columns=\"Booking_ID\",inplace=True)\n",
    "\n",
    "x=df.drop(columns='booking_status')\n",
    "y=df['booking_status']\n",
    "x_train,x_test ,y_train,y_test=train_test_split(x,y,test_size=0.2,shuffle=True,stratify=y,random_state=45)\n",
    "num_cols=x_train.select_dtypes(include='number')\n",
    "num_cols=list(num_cols.drop(columns=['arrival_month','arrival_date','arrival_year','required_car_parking_space','repeated_guest']).columns)\n",
    "cat_columns=list(x_train.select_dtypes(include='object').columns)\n",
    "ready_cols=['required_car_parking_space','repeated_guest']\n",
    "num_pipe=Pipeline(steps=[\n",
    "    ('selctor',DataFrameSelector(num_cols)),\n",
    "    ('Scaling',StandardScaler())\n",
    "])\n",
    "cat_pipe=Pipeline(steps=[\n",
    "    ('selector',DataFrameSelector(cat_columns)),\n",
    "    ('OHE',OneHotEncoder()),\n",
    "    ('scaling',StandardScaler(with_mean=False))  \n",
    "])\n",
    "ready_pipe=Pipeline(steps=[\n",
    "    ('selector',DataFrameSelector(ready_cols)),\n",
    "    ('Scaling',StandardScaler(with_mean=False))\n",
    "])\n",
    "#combine_pipes\n",
    "all_pipe=FeatureUnion(transformer_list=[\n",
    "    ('numerical',num_pipe),\n",
    "    ('categorical',cat_pipe),\n",
    "    ('ready',ready_pipe)\n",
    "\n",
    "])\n",
    "#apply\n",
    "x_train_final=all_pipe.fit_transform(x_train)\n",
    "x_test_final=all_pipe.transform(x_test)\n",
    "with open('metrics.txt','w'):\n",
    "    pass\n",
    "def train_model(x_train,y_train):\n",
    "    cls=RandomForestClassifier(n_estimators=300,max_depth=5)\n",
    "    cls.fit(x_train,y_train)\n",
    "    y_pred_train=cls.predict(x_train)\n",
    "    y_pred_test=cls.predict(x_test_final)\n",
    "\n",
    "    #calc f1_score\n",
    "    Score_train=f1_score(y_train, y_pred_train,pos_label='Not_Canceled')\n",
    "    Score_test=f1_score(y_test,y_pred_test,pos_label='Not_Canceled')\n",
    "    #name of classifier\n",
    "    cls_name=cls.__class__.__name__\n",
    "    # Generate confusion matrix\n",
    "    cm = confusion_matrix(y_test, y_pred_test)\n",
    "\n",
    "    # Display the confusion matrix\n",
    "    disp = ConfusionMatrixDisplay(confusion_matrix=cm, display_labels=['Canceled','Not_Canceled'])\n",
    "    disp.plot(cmap=plt.cm.Blues)\n",
    "    plt.title(\"confusion_matrix\")\n",
    "    plt.savefig(f'confusion_matrix.png')\n",
    "    plt.close()\n",
    "    with  open('metrics.txt','a') as f:\n",
    "        f.write(f'{cls_name} \\n')\n",
    "        f.write(f'F1_score for Training is : {Score_train*100:.0f}%\\n')\n",
    "        f.write(f'F1_score for Testing is : {Score_test*100:.0f}%\\n')\n",
    "        f.write('****'*10+'\\n')\n",
    "    return True\n",
    "train_model(x_train_final,y_train)"
   ]
  },
  {
   "cell_type": "code",
   "execution_count": null,
   "id": "987dbd41-4dd8-4c47-9920-3e3d1b2bcbff",
   "metadata": {},
   "outputs": [],
   "source": []
  }
 ],
 "metadata": {
  "kernelspec": {
   "display_name": "Python 3 (ipykernel)",
   "language": "python",
   "name": "python3"
  },
  "language_info": {
   "codemirror_mode": {
    "name": "ipython",
    "version": 3
   },
   "file_extension": ".py",
   "mimetype": "text/x-python",
   "name": "python",
   "nbconvert_exporter": "python",
   "pygments_lexer": "ipython3",
   "version": "3.13.0"
  }
 },
 "nbformat": 4,
 "nbformat_minor": 5
}
